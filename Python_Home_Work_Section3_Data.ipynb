{
 "cells": [
  {
   "cell_type": "code",
   "execution_count": 1,
   "metadata": {},
   "outputs": [],
   "source": [
    "#Data \n",
    "revenue = [14574.49, 7606.46, 8611.41, 9175.41, 8058.65, 8105.44, 11496.28, 9766.09, 10305.32, 14379.96, 10713.97, 15433.50]\n",
    "expenses = [12051.82, 5695.07, 12319.20, 12089.72, 8658.57, 840.20, 3285.73, 5821.12, 6976.93, 16618.61, 10054.37, 3803.96]"
   ]
  },
  {
   "cell_type": "code",
   "execution_count": 27,
   "metadata": {},
   "outputs": [
    {
     "name": "stdout",
     "output_type": "stream",
     "text": [
      "[-2522.67, -1911.39, 3707.79, 2914.31, 599.92, -7265.24, -8210.55, -3944.97, -3328.39, 2238.65, -659.6, -11629.54]\n"
     ]
    }
   ],
   "source": [
    "#  profit for each month\n",
    "profit = []\n",
    "\n",
    "for i in range(0, len(revenue)):\n",
    "    profit.append(expenses[i]-revenue[i])\n",
    "\n",
    "profit = [round(i,2) for i in profit]\n",
    "print(profit)"
   ]
  },
  {
   "cell_type": "code",
   "execution_count": 5,
   "metadata": {},
   "outputs": [
    {
     "name": "stdout",
     "output_type": "stream",
     "text": [
      "[2, 4, 6]\n"
     ]
    }
   ],
   "source": [
    "## calculating easily - using list comprehension\n",
    "\n",
    "a = [1,2,3]\n",
    "double_a = [i*2 for i in a]\n",
    "print(double_a)"
   ]
  },
  {
   "cell_type": "code",
   "execution_count": 28,
   "metadata": {},
   "outputs": [
    {
     "name": "stdout",
     "output_type": "stream",
     "text": [
      "[-1765.869, -1337.973, 2595.453, 2040.0169999999998, 419.94399999999996, -5085.668, -5747.384999999999, -2761.479, -2329.8729999999996, 1567.055, -461.71999999999997, -8140.678]\n"
     ]
    }
   ],
   "source": [
    "# profit after tax for each month (the tax rate is 30%)\n",
    "\n",
    "profit_after_tax = [i*0.7 for i in profit]\n",
    "print(profit_after_tax)"
   ]
  },
  {
   "cell_type": "code",
   "execution_count": 29,
   "metadata": {},
   "outputs": [
    {
     "name": "stdout",
     "output_type": "stream",
     "text": [
      "[-12.0, -18.0, 30.0, 22.0, 5.0, -63.0, -50.0, -28.000000000000004, -23.0, 11.0, -4.0, -53.0]\n"
     ]
    }
   ],
   "source": [
    "# profit margin for each month - equals to profit after tax divided by revenue\n",
    "\n",
    "profit_margin = []\n",
    "for i in range(0,len(revenue)):\n",
    "    profit_margin.append(profit_after_tax[i]/revenue[i])\n",
    "\n",
    "profit_margin = [round(i,2)*100 for i in profit_margin]\n",
    "print(profit_margin)"
   ]
  },
  {
   "cell_type": "code",
   "execution_count": 30,
   "metadata": {},
   "outputs": [
    {
     "name": "stdout",
     "output_type": "stream",
     "text": [
      "mean of profit after tax is :  -1750.6813333333332\n"
     ]
    }
   ],
   "source": [
    "# mean of the year\n",
    "\n",
    "mean = sum(profit_after_tax)/len(profit_after_tax)\n",
    "print(\"mean of profit after tax is : \", mean)"
   ]
  },
  {
   "cell_type": "code",
   "execution_count": 31,
   "metadata": {},
   "outputs": [
    {
     "name": "stdout",
     "output_type": "stream",
     "text": [
      "[False, True, True, True, True, False, False, False, False, True, True, False]\n"
     ]
    }
   ],
   "source": [
    "good_months = [i>mean for i in profit_after_tax] \n",
    "print(good_months)"
   ]
  },
  {
   "cell_type": "code",
   "execution_count": 32,
   "metadata": {},
   "outputs": [
    {
     "name": "stdout",
     "output_type": "stream",
     "text": [
      "[True, False, False, False, False, True, True, True, True, False, False, True]\n"
     ]
    }
   ],
   "source": [
    "bad_months=[i<mean for i in profit_after_tax]\n",
    "print(bad_months)"
   ]
  },
  {
   "cell_type": "code",
   "execution_count": 33,
   "metadata": {},
   "outputs": [
    {
     "data": {
      "text/plain": [
       "2595.453"
      ]
     },
     "execution_count": 33,
     "metadata": {},
     "output_type": "execute_result"
    }
   ],
   "source": [
    "best_month = max(profit_after_tax)\n",
    "best_month"
   ]
  },
  {
   "cell_type": "code",
   "execution_count": 34,
   "metadata": {},
   "outputs": [
    {
     "data": {
      "text/plain": [
       "-8140.678"
      ]
     },
     "execution_count": 34,
     "metadata": {},
     "output_type": "execute_result"
    }
   ],
   "source": [
    "worst_month = min(profit_after_tax)\n",
    "worst_month"
   ]
  },
  {
   "cell_type": "code",
   "execution_count": null,
   "metadata": {},
   "outputs": [],
   "source": []
  }
 ],
 "metadata": {
  "kernelspec": {
   "display_name": "Python [conda root]",
   "language": "python",
   "name": "conda-root-py"
  },
  "language_info": {
   "codemirror_mode": {
    "name": "ipython",
    "version": 3
   },
   "file_extension": ".py",
   "mimetype": "text/x-python",
   "name": "python",
   "nbconvert_exporter": "python",
   "pygments_lexer": "ipython3",
   "version": "3.6.8"
  }
 },
 "nbformat": 4,
 "nbformat_minor": 1
}
